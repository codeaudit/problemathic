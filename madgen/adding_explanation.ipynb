{
  "cells": [
    {
      "cell_type": "code",
      "source": [
        "import os\n",
        "import re\n",
        "import pandas as pd\n",
        "import numpy as np\n",
        "import tqdm\n",
        "import ast"
      ],
      "outputs": [],
      "execution_count": 1,
      "metadata": {
        "gather": {
          "logged": 1702276298082
        }
      }
    },
    {
      "cell_type": "code",
      "source": [
        "%pip install openai\n",
        "import openai"
      ],
      "outputs": [
        {
          "output_type": "stream",
          "name": "stdout",
          "text": "Requirement already satisfied: openai in /anaconda/envs/azureml_py310_sdkv2/lib/python3.10/site-packages (1.3.8)\nRequirement already satisfied: httpx<1,>=0.23.0 in /anaconda/envs/azureml_py310_sdkv2/lib/python3.10/site-packages (from openai) (0.25.0)\nRequirement already satisfied: distro<2,>=1.7.0 in /anaconda/envs/azureml_py310_sdkv2/lib/python3.10/site-packages (from openai) (1.8.0)\nRequirement already satisfied: tqdm>4 in /anaconda/envs/azureml_py310_sdkv2/lib/python3.10/site-packages (from openai) (4.65.0)\nRequirement already satisfied: sniffio in /anaconda/envs/azureml_py310_sdkv2/lib/python3.10/site-packages (from openai) (1.3.0)\nRequirement already satisfied: typing-extensions<5,>=4.5 in /anaconda/envs/azureml_py310_sdkv2/lib/python3.10/site-packages (from openai) (4.6.3)\nRequirement already satisfied: anyio<5,>=3.5.0 in /anaconda/envs/azureml_py310_sdkv2/lib/python3.10/site-packages (from openai) (4.0.0)\nRequirement already satisfied: pydantic<3,>=1.9.0 in /anaconda/envs/azureml_py310_sdkv2/lib/python3.10/site-packages (from openai) (2.5.2)\nRequirement already satisfied: idna>=2.8 in /anaconda/envs/azureml_py310_sdkv2/lib/python3.10/site-packages (from anyio<5,>=3.5.0->openai) (3.4)\nRequirement already satisfied: exceptiongroup>=1.0.2 in /anaconda/envs/azureml_py310_sdkv2/lib/python3.10/site-packages (from anyio<5,>=3.5.0->openai) (1.1.3)\nRequirement already satisfied: certifi in /anaconda/envs/azureml_py310_sdkv2/lib/python3.10/site-packages (from httpx<1,>=0.23.0->openai) (2023.5.7)\nRequirement already satisfied: httpcore<0.19.0,>=0.18.0 in /anaconda/envs/azureml_py310_sdkv2/lib/python3.10/site-packages (from httpx<1,>=0.23.0->openai) (0.18.0)\nRequirement already satisfied: annotated-types>=0.4.0 in /anaconda/envs/azureml_py310_sdkv2/lib/python3.10/site-packages (from pydantic<3,>=1.9.0->openai) (0.6.0)\nRequirement already satisfied: pydantic-core==2.14.5 in /anaconda/envs/azureml_py310_sdkv2/lib/python3.10/site-packages (from pydantic<3,>=1.9.0->openai) (2.14.5)\nRequirement already satisfied: h11<0.15,>=0.13 in /anaconda/envs/azureml_py310_sdkv2/lib/python3.10/site-packages (from httpcore<0.19.0,>=0.18.0->httpx<1,>=0.23.0->openai) (0.14.0)\nNote: you may need to restart the kernel to use updated packages.\n"
        }
      ],
      "execution_count": 2,
      "metadata": {
        "jupyter": {
          "source_hidden": false,
          "outputs_hidden": false
        },
        "nteract": {
          "transient": {
            "deleting": false
          }
        },
        "gather": {
          "logged": 1702276301938
        }
      }
    },
    {
      "cell_type": "code",
      "source": [
        "openai.api_type = \"azure\"\n",
        "# openai.azure_endpoint = \n",
        "# openai.api_version = \"2023-03-15-preview\"\n",
        "# openai.api_key = \n",
        "\n",
        "\n",
        "import os\n",
        "from openai import AzureOpenAI\n",
        "    \n",
        "client = AzureOpenAI(\n",
        "    api_key= \n",
        "    api_version=\"2023-10-01-preview\",\n",
        "    azure_endpoint = \n",
        ")"
      ],
      "outputs": [],
      "execution_count": 8,
      "metadata": {
        "jupyter": {
          "source_hidden": false,
          "outputs_hidden": false
        },
        "nteract": {
          "transient": {
            "deleting": false
          }
        },
        "gather": {
          "logged": 1702276322102
        }
      }
    },
    {
      "cell_type": "code",
      "source": [
        "def getExplanation(prompt,prefix=None):\n",
        "\n",
        "    if(prefix is not None):\n",
        "        default = prefix\n",
        "    else:\n",
        "        default = '''You are given a mathematical problem and its answer. Show the step by step working to start from the problem and obtain the solution.\n",
        "        Example: \n",
        "        Problem: I ate 65 oranges, followed by 5 apples. How many fruits did I eat?\n",
        "        Answer: 70\n",
        "        Solution steps: In order to find the total number of fruits eaten, we add the number of oranges (65) and apples (5). 65 and 5 make 70. FINAL ANSWER: 70\n",
        "\n",
        "        Example:\n",
        "        Problem: \n",
        "\n",
        "        Now do the same for the following problem and answer.\n",
        "        {}\n",
        "        Solution steps: \n",
        "        '''.format(prompt)\n",
        "\n",
        "\n",
        "    return default\n"
      ],
      "outputs": [],
      "execution_count": 9,
      "metadata": {
        "jupyter": {
          "source_hidden": false,
          "outputs_hidden": false
        },
        "nteract": {
          "transient": {
            "deleting": false
          }
        },
        "gather": {
          "logged": 1702276328745
        }
      }
    },
    {
      "cell_type": "code",
      "source": [],
      "outputs": [],
      "execution_count": null,
      "metadata": {
        "jupyter": {
          "source_hidden": false,
          "outputs_hidden": false
        },
        "nteract": {
          "transient": {
            "deleting": false
          }
        }
      }
    },
    {
      "cell_type": "code",
      "source": [
        "def createOP(prompt,prefix=None):\n",
        "\n",
        "    if(prefix is not None):\n",
        "        default = prefix\n",
        "    else:\n",
        "        default = '''\n",
        "        You are given an input json string to parse into different categories.\n",
        "        From the following text, output the following.\n",
        "        Context: The part of the input that contains the value of \"augmented passage\" \n",
        "        Problem: The part of the input that occurs after \"question:\"\n",
        "        Relevant variables: The part of the input that occurs before \"augmented passage\"\n",
        "        Irrelevant variables: The part of the output containing value of \"new variables\". If this is not present in the input, do not include this key in the output.\n",
        "        Explanation: An explanation of why the irrelevant variables are not related to the problem. If irrelevant (new) variables are not in the input, do not include this key in the output\n",
        "        Solution: The part of the input containing the \"Solution Steps\" string.\n",
        "\n",
        "        Example:\n",
        "        Input: [['Number of pencils (changes from 2 to 3)', 'Augmented: There are 2 pencils in the drawer with a weight of 10 grams each. Tim placed 3 pencils, each weighing 12 grams, in the drawer. Now the pencils in the drawer have a total weight of 56 grams.', 'New Variables: Weight (changes from 10 to 12)']]. Question: What is the total number of pencils? Solution steps: Initially there were 2 pencils. 3 more were added. Hence the total number of pencils is the sum of 2 and 3, which is 5. FINAL ANSWER: 5\n",
        "        Output: \n",
        "        Context: There are 2 pencils in the drawer with a weight of 10 grams each. Tim placed 3 pencils, each weighing 12 grams, in the drawer. Now there are 5 pencils in the drawer with a total weight of 58 grams.\n",
        "        Problem: What is the total number of pencils?\n",
        "        Relevant variables: Number of pencils (changes from 2 to 5)\n",
        "        Irrelevant variables: Weight (changes from 10 to 12)\n",
        "        Explanation: As the problem deals with number of pencils, which we already have, there is no need to consider the weight of the pencils when counting the total quantity.\n",
        "        Solution: Initially there were 2 pencils. 3 more were added. Hence the total number of pencils is the sum of 2 and 3, which is 5. FINAL ANSWER: 5\n",
        "\n",
        "        Now do the same for the following.\n",
        "        Input: {}\n",
        "        Output:        \n",
        "        '''.format(prompt)\n",
        "\n",
        "\n",
        "\n",
        "\n",
        "\n",
        "    return default"
      ],
      "outputs": [],
      "execution_count": 13,
      "metadata": {
        "jupyter": {
          "source_hidden": false,
          "outputs_hidden": false
        },
        "nteract": {
          "transient": {
            "deleting": false
          }
        },
        "gather": {
          "logged": 1702276424914
        }
      }
    },
    {
      "cell_type": "code",
      "source": [
        "\n",
        "def getInference(prompt_text, returnPrompt=False):\n",
        "\n",
        "    # print(prompt_text)\n",
        "    # print(type(prompt_text))\n",
        "\n",
        "    response = openai.chat.completions.create(\n",
        "    # response = client.completions.create(\n",
        "        model=\"gpt-35-turbo\",\n",
        "        messages = [\n",
        "\n",
        "                        {\"role\": \"system\", \"content\": \"You are a mathematician.\"},\n",
        "\n",
        "                        {\"role\": \"user\", \"content\": prompt_text}\n",
        "\n",
        "                    ],\n",
        "        temperature=0.7,\n",
        "        max_tokens=800,\n",
        "        top_p=0.95,\n",
        "        frequency_penalty=0,\n",
        "        presence_penalty=0,\n",
        "        stop=None)\n",
        "\n",
        "    ans = response.choices[0].message.content\n",
        "\n",
        "    if(returnPrompt):\n",
        "        return [prompt_text,ans[0]]\n",
        "    else:\n",
        "        return ans "
      ],
      "outputs": [],
      "execution_count": 11,
      "metadata": {
        "jupyter": {
          "source_hidden": false,
          "outputs_hidden": false
        },
        "nteract": {
          "transient": {
            "deleting": false
          }
        },
        "gather": {
          "logged": 1702276330324
        }
      }
    },
    {
      "cell_type": "code",
      "source": [],
      "outputs": [],
      "execution_count": null,
      "metadata": {
        "jupyter": {
          "source_hidden": false,
          "outputs_hidden": false
        },
        "nteract": {
          "transient": {
            "deleting": false
          }
        },
        "gather": {
          "logged": 1702276252213
        }
      }
    },
    {
      "cell_type": "code",
      "source": [
        "for i in tqdm.tqdm(range(0,10)):\n",
        "\n",
        "    \n",
        "    # def process(ipfile,opfile)\n",
        "    ipfile = f'SIMPLE-stage_4_with_adversarial_TRAIN_SHARD_{i}.csv'\n",
        "    opfile = os.path.join('updated',ipfile)\n",
        "    df = pd.read_csv(ipfile)\n",
        "    df['unique_id'] = df['passage_id']+'_'+df['query_id']\n",
        "    df['answers'] = df['answer'].apply(lambda x: ast.literal_eval(x)['number'])\n",
        "    # df.info()\n",
        "    nonadv = df[~df.isAdversarial]\n",
        "    adv = df[df.isAdversarial]\n",
        "\n",
        "    nonadv['ip'] = 'Problem: ' + nonadv['passage'] + '.' + nonadv['question'] + '\\nAnswer: ' + nonadv['answers']\n",
        "    print(nonadv['ip'].iloc[0])\n",
        "\n",
        "    nonadv['output'] = nonadv['ip'].apply(lambda x: getInference(getExplanation(x)))\n",
        "    nonadv['input'] = nonadv['ip'].str.split('\\nAnswer').str[0]\n",
        "\n",
        "    nonadv.to_csv(os.path.join('explanations',ipfile))\n",
        "\n",
        "    print('non adv done. we have solutions')\n",
        "\n",
        "    adv['output'] = nonadv['output']\n",
        "    adv['ip'] = adv['passage'] + 'Question: ' + adv['question'] + 'Solution steps: ' + adv['output']\n",
        "\n",
        "    adv['output'] = adv['ip'].apply(lambda x: getInference(createOP(x)))\n",
        "\n",
        "    print('adv done. we have explanations.')\n",
        "\n",
        "    nonadv.to_csv(os.path.join('explanations',ipfile.replace('.csv','_ADV.csv')))\n",
        "\n",
        "\n",
        "    try:\n",
        "            \n",
        "        adv['input'] = adv['passage'].apply(lambda x: ast.literal_eval(x)[0][1]).str.split('Augmented: ').str[-1]\n",
        "        adv2 = adv[['input','output']]\n",
        "        nonadv2 = nonadv[['input','output']]\n",
        "        dfo = pd.concat([nonadv2,adv2])\n",
        "        dfo = dfo.reset_index(drop=True)\n",
        "        dfo.to_csv(opfile,index=False)\n",
        "    except: \n",
        "        continue\n"
      ],
      "outputs": [
        {
          "output_type": "stream",
          "name": "stderr",
          "text": "  0%|          | 0/10 [00:00<?, ?it/s]/tmp/ipykernel_3344224/3006063650.py:14: SettingWithCopyWarning: \nA value is trying to be set on a copy of a slice from a DataFrame.\nTry using .loc[row_indexer,col_indexer] = value instead\n\nSee the caveats in the documentation: https://pandas.pydata.org/pandas-docs/stable/user_guide/indexing.html#returning-a-view-versus-a-copy\n  nonadv['ip'] = 'Problem: ' + nonadv['passage'] + '.' + nonadv['question'] + '\\nAnswer: ' + nonadv['answers']\n/tmp/ipykernel_3344224/3006063650.py:17: SettingWithCopyWarning: \nA value is trying to be set on a copy of a slice from a DataFrame.\nTry using .loc[row_indexer,col_indexer] = value instead\n\nSee the caveats in the documentation: https://pandas.pydata.org/pandas-docs/stable/user_guide/indexing.html#returning-a-view-versus-a-copy\n  nonadv['output'] = nonadv['ip'].apply(lambda x: getInference(getExplanation(x)))\n/tmp/ipykernel_3344224/3006063650.py:18: SettingWithCopyWarning: \nA value is trying to be set on a copy of a slice from a DataFrame.\nTry using .loc[row_indexer,col_indexer] = value instead\n\nSee the caveats in the documentation: https://pandas.pydata.org/pandas-docs/stable/user_guide/indexing.html#returning-a-view-versus-a-copy\n  nonadv['input'] = nonadv['ip'].str.split('\\nAnswer').str[0]\n/tmp/ipykernel_3344224/3006063650.py:24: SettingWithCopyWarning: \nA value is trying to be set on a copy of a slice from a DataFrame.\nTry using .loc[row_indexer,col_indexer] = value instead\n\nSee the caveats in the documentation: https://pandas.pydata.org/pandas-docs/stable/user_guide/indexing.html#returning-a-view-versus-a-copy\n  adv['output'] = nonadv['output']\n/tmp/ipykernel_3344224/3006063650.py:25: SettingWithCopyWarning: \nA value is trying to be set on a copy of a slice from a DataFrame.\nTry using .loc[row_indexer,col_indexer] = value instead\n\nSee the caveats in the documentation: https://pandas.pydata.org/pandas-docs/stable/user_guide/indexing.html#returning-a-view-versus-a-copy\n  adv['ip'] = adv['passage'] + 'Question: ' + adv['question'] + 'Solution steps: ' + adv['output']\n/tmp/ipykernel_3344224/3006063650.py:27: SettingWithCopyWarning: \nA value is trying to be set on a copy of a slice from a DataFrame.\nTry using .loc[row_indexer,col_indexer] = value instead\n\nSee the caveats in the documentation: https://pandas.pydata.org/pandas-docs/stable/user_guide/indexing.html#returning-a-view-versus-a-copy\n  adv['output'] = adv['ip'].apply(lambda x: getInference(createOP(x)))\n/tmp/ipykernel_3344224/3006063650.py:36: SettingWithCopyWarning: \nA value is trying to be set on a copy of a slice from a DataFrame.\nTry using .loc[row_indexer,col_indexer] = value instead\n\nSee the caveats in the documentation: https://pandas.pydata.org/pandas-docs/stable/user_guide/indexing.html#returning-a-view-versus-a-copy\n  adv['input'] = adv['passage'].apply(lambda x: ast.literal_eval(x)[0][1]).str.split('Augmented: ').str[-1]\n 10%|█         | 1/10 [02:10<19:36, 130.74s/it]/tmp/ipykernel_3344224/3006063650.py:14: SettingWithCopyWarning: \nA value is trying to be set on a copy of a slice from a DataFrame.\nTry using .loc[row_indexer,col_indexer] = value instead\n\nSee the caveats in the documentation: https://pandas.pydata.org/pandas-docs/stable/user_guide/indexing.html#returning-a-view-versus-a-copy\n  nonadv['ip'] = 'Problem: ' + nonadv['passage'] + '.' + nonadv['question'] + '\\nAnswer: ' + nonadv['answers']\n/tmp/ipykernel_3344224/3006063650.py:17: SettingWithCopyWarning: \nA value is trying to be set on a copy of a slice from a DataFrame.\nTry using .loc[row_indexer,col_indexer] = value instead\n\nSee the caveats in the documentation: https://pandas.pydata.org/pandas-docs/stable/user_guide/indexing.html#returning-a-view-versus-a-copy\n  nonadv['output'] = nonadv['ip'].apply(lambda x: getInference(getExplanation(x)))\n/tmp/ipykernel_3344224/3006063650.py:18: SettingWithCopyWarning: \nA value is trying to be set on a copy of a slice from a DataFrame.\nTry using .loc[row_indexer,col_indexer] = value instead\n\nSee the caveats in the documentation: https://pandas.pydata.org/pandas-docs/stable/user_guide/indexing.html#returning-a-view-versus-a-copy\n  nonadv['input'] = nonadv['ip'].str.split('\\nAnswer').str[0]\n/tmp/ipykernel_3344224/3006063650.py:24: SettingWithCopyWarning: \nA value is trying to be set on a copy of a slice from a DataFrame.\nTry using .loc[row_indexer,col_indexer] = value instead\n\nSee the caveats in the documentation: https://pandas.pydata.org/pandas-docs/stable/user_guide/indexing.html#returning-a-view-versus-a-copy\n  adv['output'] = nonadv['output']\n/tmp/ipykernel_3344224/3006063650.py:25: SettingWithCopyWarning: \nA value is trying to be set on a copy of a slice from a DataFrame.\nTry using .loc[row_indexer,col_indexer] = value instead\n\nSee the caveats in the documentation: https://pandas.pydata.org/pandas-docs/stable/user_guide/indexing.html#returning-a-view-versus-a-copy\n  adv['ip'] = adv['passage'] + 'Question: ' + adv['question'] + 'Solution steps: ' + adv['output']\n/tmp/ipykernel_3344224/3006063650.py:27: SettingWithCopyWarning: \nA value is trying to be set on a copy of a slice from a DataFrame.\nTry using .loc[row_indexer,col_indexer] = value instead\n\nSee the caveats in the documentation: https://pandas.pydata.org/pandas-docs/stable/user_guide/indexing.html#returning-a-view-versus-a-copy\n  adv['output'] = adv['ip'].apply(lambda x: getInference(createOP(x)))\n/tmp/ipykernel_3344224/3006063650.py:36: SettingWithCopyWarning: \nA value is trying to be set on a copy of a slice from a DataFrame.\nTry using .loc[row_indexer,col_indexer] = value instead\n\nSee the caveats in the documentation: https://pandas.pydata.org/pandas-docs/stable/user_guide/indexing.html#returning-a-view-versus-a-copy\n  adv['input'] = adv['passage'].apply(lambda x: ast.literal_eval(x)[0][1]).str.split('Augmented: ').str[-1]\n 20%|██        | 2/10 [04:29<18:03, 135.40s/it]/tmp/ipykernel_3344224/3006063650.py:14: SettingWithCopyWarning: \nA value is trying to be set on a copy of a slice from a DataFrame.\nTry using .loc[row_indexer,col_indexer] = value instead\n\nSee the caveats in the documentation: https://pandas.pydata.org/pandas-docs/stable/user_guide/indexing.html#returning-a-view-versus-a-copy\n  nonadv['ip'] = 'Problem: ' + nonadv['passage'] + '.' + nonadv['question'] + '\\nAnswer: ' + nonadv['answers']\n/tmp/ipykernel_3344224/3006063650.py:17: SettingWithCopyWarning: \nA value is trying to be set on a copy of a slice from a DataFrame.\nTry using .loc[row_indexer,col_indexer] = value instead\n\nSee the caveats in the documentation: https://pandas.pydata.org/pandas-docs/stable/user_guide/indexing.html#returning-a-view-versus-a-copy\n  nonadv['output'] = nonadv['ip'].apply(lambda x: getInference(getExplanation(x)))\n/tmp/ipykernel_3344224/3006063650.py:18: SettingWithCopyWarning: \nA value is trying to be set on a copy of a slice from a DataFrame.\nTry using .loc[row_indexer,col_indexer] = value instead\n\nSee the caveats in the documentation: https://pandas.pydata.org/pandas-docs/stable/user_guide/indexing.html#returning-a-view-versus-a-copy\n  nonadv['input'] = nonadv['ip'].str.split('\\nAnswer').str[0]\n/tmp/ipykernel_3344224/3006063650.py:24: SettingWithCopyWarning: \nA value is trying to be set on a copy of a slice from a DataFrame.\nTry using .loc[row_indexer,col_indexer] = value instead\n\nSee the caveats in the documentation: https://pandas.pydata.org/pandas-docs/stable/user_guide/indexing.html#returning-a-view-versus-a-copy\n  adv['output'] = nonadv['output']\n/tmp/ipykernel_3344224/3006063650.py:25: SettingWithCopyWarning: \nA value is trying to be set on a copy of a slice from a DataFrame.\nTry using .loc[row_indexer,col_indexer] = value instead\n\nSee the caveats in the documentation: https://pandas.pydata.org/pandas-docs/stable/user_guide/indexing.html#returning-a-view-versus-a-copy\n  adv['ip'] = adv['passage'] + 'Question: ' + adv['question'] + 'Solution steps: ' + adv['output']\n/tmp/ipykernel_3344224/3006063650.py:27: SettingWithCopyWarning: \nA value is trying to be set on a copy of a slice from a DataFrame.\nTry using .loc[row_indexer,col_indexer] = value instead\n\nSee the caveats in the documentation: https://pandas.pydata.org/pandas-docs/stable/user_guide/indexing.html#returning-a-view-versus-a-copy\n  adv['output'] = adv['ip'].apply(lambda x: getInference(createOP(x)))\n/tmp/ipykernel_3344224/3006063650.py:36: SettingWithCopyWarning: \nA value is trying to be set on a copy of a slice from a DataFrame.\nTry using .loc[row_indexer,col_indexer] = value instead\n\nSee the caveats in the documentation: https://pandas.pydata.org/pandas-docs/stable/user_guide/indexing.html#returning-a-view-versus-a-copy\n  adv['input'] = adv['passage'].apply(lambda x: ast.literal_eval(x)[0][1]).str.split('Augmented: ').str[-1]\n 30%|███       | 3/10 [06:59<16:33, 141.99s/it]/tmp/ipykernel_3344224/3006063650.py:14: SettingWithCopyWarning: \nA value is trying to be set on a copy of a slice from a DataFrame.\nTry using .loc[row_indexer,col_indexer] = value instead\n\nSee the caveats in the documentation: https://pandas.pydata.org/pandas-docs/stable/user_guide/indexing.html#returning-a-view-versus-a-copy\n  nonadv['ip'] = 'Problem: ' + nonadv['passage'] + '.' + nonadv['question'] + '\\nAnswer: ' + nonadv['answers']\n/tmp/ipykernel_3344224/3006063650.py:17: SettingWithCopyWarning: \nA value is trying to be set on a copy of a slice from a DataFrame.\nTry using .loc[row_indexer,col_indexer] = value instead\n\nSee the caveats in the documentation: https://pandas.pydata.org/pandas-docs/stable/user_guide/indexing.html#returning-a-view-versus-a-copy\n  nonadv['output'] = nonadv['ip'].apply(lambda x: getInference(getExplanation(x)))\n/tmp/ipykernel_3344224/3006063650.py:18: SettingWithCopyWarning: \nA value is trying to be set on a copy of a slice from a DataFrame.\nTry using .loc[row_indexer,col_indexer] = value instead\n\nSee the caveats in the documentation: https://pandas.pydata.org/pandas-docs/stable/user_guide/indexing.html#returning-a-view-versus-a-copy\n  nonadv['input'] = nonadv['ip'].str.split('\\nAnswer').str[0]\n/tmp/ipykernel_3344224/3006063650.py:24: SettingWithCopyWarning: \nA value is trying to be set on a copy of a slice from a DataFrame.\nTry using .loc[row_indexer,col_indexer] = value instead\n\nSee the caveats in the documentation: https://pandas.pydata.org/pandas-docs/stable/user_guide/indexing.html#returning-a-view-versus-a-copy\n  adv['output'] = nonadv['output']\n/tmp/ipykernel_3344224/3006063650.py:25: SettingWithCopyWarning: \nA value is trying to be set on a copy of a slice from a DataFrame.\nTry using .loc[row_indexer,col_indexer] = value instead\n\nSee the caveats in the documentation: https://pandas.pydata.org/pandas-docs/stable/user_guide/indexing.html#returning-a-view-versus-a-copy\n  adv['ip'] = adv['passage'] + 'Question: ' + adv['question'] + 'Solution steps: ' + adv['output']\n/tmp/ipykernel_3344224/3006063650.py:27: SettingWithCopyWarning: \nA value is trying to be set on a copy of a slice from a DataFrame.\nTry using .loc[row_indexer,col_indexer] = value instead\n\nSee the caveats in the documentation: https://pandas.pydata.org/pandas-docs/stable/user_guide/indexing.html#returning-a-view-versus-a-copy\n  adv['output'] = adv['ip'].apply(lambda x: getInference(createOP(x)))\n/tmp/ipykernel_3344224/3006063650.py:36: SettingWithCopyWarning: \nA value is trying to be set on a copy of a slice from a DataFrame.\nTry using .loc[row_indexer,col_indexer] = value instead\n\nSee the caveats in the documentation: https://pandas.pydata.org/pandas-docs/stable/user_guide/indexing.html#returning-a-view-versus-a-copy\n  adv['input'] = adv['passage'].apply(lambda x: ast.literal_eval(x)[0][1]).str.split('Augmented: ').str[-1]\n 40%|████      | 4/10 [09:59<15:43, 157.24s/it]/tmp/ipykernel_3344224/3006063650.py:14: SettingWithCopyWarning: \nA value is trying to be set on a copy of a slice from a DataFrame.\nTry using .loc[row_indexer,col_indexer] = value instead\n\nSee the caveats in the documentation: https://pandas.pydata.org/pandas-docs/stable/user_guide/indexing.html#returning-a-view-versus-a-copy\n  nonadv['ip'] = 'Problem: ' + nonadv['passage'] + '.' + nonadv['question'] + '\\nAnswer: ' + nonadv['answers']\n/tmp/ipykernel_3344224/3006063650.py:17: SettingWithCopyWarning: \nA value is trying to be set on a copy of a slice from a DataFrame.\nTry using .loc[row_indexer,col_indexer] = value instead\n\nSee the caveats in the documentation: https://pandas.pydata.org/pandas-docs/stable/user_guide/indexing.html#returning-a-view-versus-a-copy\n  nonadv['output'] = nonadv['ip'].apply(lambda x: getInference(getExplanation(x)))\n/tmp/ipykernel_3344224/3006063650.py:18: SettingWithCopyWarning: \nA value is trying to be set on a copy of a slice from a DataFrame.\nTry using .loc[row_indexer,col_indexer] = value instead\n\nSee the caveats in the documentation: https://pandas.pydata.org/pandas-docs/stable/user_guide/indexing.html#returning-a-view-versus-a-copy\n  nonadv['input'] = nonadv['ip'].str.split('\\nAnswer').str[0]\n/tmp/ipykernel_3344224/3006063650.py:24: SettingWithCopyWarning: \nA value is trying to be set on a copy of a slice from a DataFrame.\nTry using .loc[row_indexer,col_indexer] = value instead\n\nSee the caveats in the documentation: https://pandas.pydata.org/pandas-docs/stable/user_guide/indexing.html#returning-a-view-versus-a-copy\n  adv['output'] = nonadv['output']\n/tmp/ipykernel_3344224/3006063650.py:25: SettingWithCopyWarning: \nA value is trying to be set on a copy of a slice from a DataFrame.\nTry using .loc[row_indexer,col_indexer] = value instead\n\nSee the caveats in the documentation: https://pandas.pydata.org/pandas-docs/stable/user_guide/indexing.html#returning-a-view-versus-a-copy\n  adv['ip'] = adv['passage'] + 'Question: ' + adv['question'] + 'Solution steps: ' + adv['output']\n/tmp/ipykernel_3344224/3006063650.py:27: SettingWithCopyWarning: \nA value is trying to be set on a copy of a slice from a DataFrame.\nTry using .loc[row_indexer,col_indexer] = value instead\n\nSee the caveats in the documentation: https://pandas.pydata.org/pandas-docs/stable/user_guide/indexing.html#returning-a-view-versus-a-copy\n  adv['output'] = adv['ip'].apply(lambda x: getInference(createOP(x)))\n/tmp/ipykernel_3344224/3006063650.py:36: SettingWithCopyWarning: \nA value is trying to be set on a copy of a slice from a DataFrame.\nTry using .loc[row_indexer,col_indexer] = value instead\n\nSee the caveats in the documentation: https://pandas.pydata.org/pandas-docs/stable/user_guide/indexing.html#returning-a-view-versus-a-copy\n  adv['input'] = adv['passage'].apply(lambda x: ast.literal_eval(x)[0][1]).str.split('Augmented: ').str[-1]\n 50%|█████     | 5/10 [12:30<12:54, 154.90s/it]/tmp/ipykernel_3344224/3006063650.py:14: SettingWithCopyWarning: \nA value is trying to be set on a copy of a slice from a DataFrame.\nTry using .loc[row_indexer,col_indexer] = value instead\n\nSee the caveats in the documentation: https://pandas.pydata.org/pandas-docs/stable/user_guide/indexing.html#returning-a-view-versus-a-copy\n  nonadv['ip'] = 'Problem: ' + nonadv['passage'] + '.' + nonadv['question'] + '\\nAnswer: ' + nonadv['answers']\n/tmp/ipykernel_3344224/3006063650.py:17: SettingWithCopyWarning: \nA value is trying to be set on a copy of a slice from a DataFrame.\nTry using .loc[row_indexer,col_indexer] = value instead\n\nSee the caveats in the documentation: https://pandas.pydata.org/pandas-docs/stable/user_guide/indexing.html#returning-a-view-versus-a-copy\n  nonadv['output'] = nonadv['ip'].apply(lambda x: getInference(getExplanation(x)))\n/tmp/ipykernel_3344224/3006063650.py:18: SettingWithCopyWarning: \nA value is trying to be set on a copy of a slice from a DataFrame.\nTry using .loc[row_indexer,col_indexer] = value instead\n\nSee the caveats in the documentation: https://pandas.pydata.org/pandas-docs/stable/user_guide/indexing.html#returning-a-view-versus-a-copy\n  nonadv['input'] = nonadv['ip'].str.split('\\nAnswer').str[0]\n/tmp/ipykernel_3344224/3006063650.py:24: SettingWithCopyWarning: \nA value is trying to be set on a copy of a slice from a DataFrame.\nTry using .loc[row_indexer,col_indexer] = value instead\n\nSee the caveats in the documentation: https://pandas.pydata.org/pandas-docs/stable/user_guide/indexing.html#returning-a-view-versus-a-copy\n  adv['output'] = nonadv['output']\n/tmp/ipykernel_3344224/3006063650.py:25: SettingWithCopyWarning: \nA value is trying to be set on a copy of a slice from a DataFrame.\nTry using .loc[row_indexer,col_indexer] = value instead\n\nSee the caveats in the documentation: https://pandas.pydata.org/pandas-docs/stable/user_guide/indexing.html#returning-a-view-versus-a-copy\n  adv['ip'] = adv['passage'] + 'Question: ' + adv['question'] + 'Solution steps: ' + adv['output']\n/tmp/ipykernel_3344224/3006063650.py:27: SettingWithCopyWarning: \nA value is trying to be set on a copy of a slice from a DataFrame.\nTry using .loc[row_indexer,col_indexer] = value instead\n\nSee the caveats in the documentation: https://pandas.pydata.org/pandas-docs/stable/user_guide/indexing.html#returning-a-view-versus-a-copy\n  adv['output'] = adv['ip'].apply(lambda x: getInference(createOP(x)))\n/tmp/ipykernel_3344224/3006063650.py:36: SettingWithCopyWarning: \nA value is trying to be set on a copy of a slice from a DataFrame.\nTry using .loc[row_indexer,col_indexer] = value instead\n\nSee the caveats in the documentation: https://pandas.pydata.org/pandas-docs/stable/user_guide/indexing.html#returning-a-view-versus-a-copy\n  adv['input'] = adv['passage'].apply(lambda x: ast.literal_eval(x)[0][1]).str.split('Augmented: ').str[-1]\n 60%|██████    | 6/10 [15:19<10:38, 159.55s/it]/tmp/ipykernel_3344224/3006063650.py:14: SettingWithCopyWarning: \nA value is trying to be set on a copy of a slice from a DataFrame.\nTry using .loc[row_indexer,col_indexer] = value instead\n\nSee the caveats in the documentation: https://pandas.pydata.org/pandas-docs/stable/user_guide/indexing.html#returning-a-view-versus-a-copy\n  nonadv['ip'] = 'Problem: ' + nonadv['passage'] + '.' + nonadv['question'] + '\\nAnswer: ' + nonadv['answers']\n/tmp/ipykernel_3344224/3006063650.py:17: SettingWithCopyWarning: \nA value is trying to be set on a copy of a slice from a DataFrame.\nTry using .loc[row_indexer,col_indexer] = value instead\n\nSee the caveats in the documentation: https://pandas.pydata.org/pandas-docs/stable/user_guide/indexing.html#returning-a-view-versus-a-copy\n  nonadv['output'] = nonadv['ip'].apply(lambda x: getInference(getExplanation(x)))\n/tmp/ipykernel_3344224/3006063650.py:18: SettingWithCopyWarning: \nA value is trying to be set on a copy of a slice from a DataFrame.\nTry using .loc[row_indexer,col_indexer] = value instead\n\nSee the caveats in the documentation: https://pandas.pydata.org/pandas-docs/stable/user_guide/indexing.html#returning-a-view-versus-a-copy\n  nonadv['input'] = nonadv['ip'].str.split('\\nAnswer').str[0]\n/tmp/ipykernel_3344224/3006063650.py:24: SettingWithCopyWarning: \nA value is trying to be set on a copy of a slice from a DataFrame.\nTry using .loc[row_indexer,col_indexer] = value instead\n\nSee the caveats in the documentation: https://pandas.pydata.org/pandas-docs/stable/user_guide/indexing.html#returning-a-view-versus-a-copy\n  adv['output'] = nonadv['output']\n/tmp/ipykernel_3344224/3006063650.py:25: SettingWithCopyWarning: \nA value is trying to be set on a copy of a slice from a DataFrame.\nTry using .loc[row_indexer,col_indexer] = value instead\n\nSee the caveats in the documentation: https://pandas.pydata.org/pandas-docs/stable/user_guide/indexing.html#returning-a-view-versus-a-copy\n  adv['ip'] = adv['passage'] + 'Question: ' + adv['question'] + 'Solution steps: ' + adv['output']\n/tmp/ipykernel_3344224/3006063650.py:27: SettingWithCopyWarning: \nA value is trying to be set on a copy of a slice from a DataFrame.\nTry using .loc[row_indexer,col_indexer] = value instead\n\nSee the caveats in the documentation: https://pandas.pydata.org/pandas-docs/stable/user_guide/indexing.html#returning-a-view-versus-a-copy\n  adv['output'] = adv['ip'].apply(lambda x: getInference(createOP(x)))\n/tmp/ipykernel_3344224/3006063650.py:36: SettingWithCopyWarning: \nA value is trying to be set on a copy of a slice from a DataFrame.\nTry using .loc[row_indexer,col_indexer] = value instead\n\nSee the caveats in the documentation: https://pandas.pydata.org/pandas-docs/stable/user_guide/indexing.html#returning-a-view-versus-a-copy\n  adv['input'] = adv['passage'].apply(lambda x: ast.literal_eval(x)[0][1]).str.split('Augmented: ').str[-1]\n 70%|███████   | 7/10 [18:14<08:13, 164.56s/it]/tmp/ipykernel_3344224/3006063650.py:14: SettingWithCopyWarning: \nA value is trying to be set on a copy of a slice from a DataFrame.\nTry using .loc[row_indexer,col_indexer] = value instead\n\nSee the caveats in the documentation: https://pandas.pydata.org/pandas-docs/stable/user_guide/indexing.html#returning-a-view-versus-a-copy\n  nonadv['ip'] = 'Problem: ' + nonadv['passage'] + '.' + nonadv['question'] + '\\nAnswer: ' + nonadv['answers']\n/tmp/ipykernel_3344224/3006063650.py:17: SettingWithCopyWarning: \nA value is trying to be set on a copy of a slice from a DataFrame.\nTry using .loc[row_indexer,col_indexer] = value instead\n\nSee the caveats in the documentation: https://pandas.pydata.org/pandas-docs/stable/user_guide/indexing.html#returning-a-view-versus-a-copy\n  nonadv['output'] = nonadv['ip'].apply(lambda x: getInference(getExplanation(x)))\n/tmp/ipykernel_3344224/3006063650.py:18: SettingWithCopyWarning: \nA value is trying to be set on a copy of a slice from a DataFrame.\nTry using .loc[row_indexer,col_indexer] = value instead\n\nSee the caveats in the documentation: https://pandas.pydata.org/pandas-docs/stable/user_guide/indexing.html#returning-a-view-versus-a-copy\n  nonadv['input'] = nonadv['ip'].str.split('\\nAnswer').str[0]\n/tmp/ipykernel_3344224/3006063650.py:24: SettingWithCopyWarning: \nA value is trying to be set on a copy of a slice from a DataFrame.\nTry using .loc[row_indexer,col_indexer] = value instead\n\nSee the caveats in the documentation: https://pandas.pydata.org/pandas-docs/stable/user_guide/indexing.html#returning-a-view-versus-a-copy\n  adv['output'] = nonadv['output']\n/tmp/ipykernel_3344224/3006063650.py:25: SettingWithCopyWarning: \nA value is trying to be set on a copy of a slice from a DataFrame.\nTry using .loc[row_indexer,col_indexer] = value instead\n\nSee the caveats in the documentation: https://pandas.pydata.org/pandas-docs/stable/user_guide/indexing.html#returning-a-view-versus-a-copy\n  adv['ip'] = adv['passage'] + 'Question: ' + adv['question'] + 'Solution steps: ' + adv['output']\n/tmp/ipykernel_3344224/3006063650.py:27: SettingWithCopyWarning: \nA value is trying to be set on a copy of a slice from a DataFrame.\nTry using .loc[row_indexer,col_indexer] = value instead\n\nSee the caveats in the documentation: https://pandas.pydata.org/pandas-docs/stable/user_guide/indexing.html#returning-a-view-versus-a-copy\n  adv['output'] = adv['ip'].apply(lambda x: getInference(createOP(x)))\n/tmp/ipykernel_3344224/3006063650.py:36: SettingWithCopyWarning: \nA value is trying to be set on a copy of a slice from a DataFrame.\nTry using .loc[row_indexer,col_indexer] = value instead\n\nSee the caveats in the documentation: https://pandas.pydata.org/pandas-docs/stable/user_guide/indexing.html#returning-a-view-versus-a-copy\n  adv['input'] = adv['passage'].apply(lambda x: ast.literal_eval(x)[0][1]).str.split('Augmented: ').str[-1]\n 80%|████████  | 8/10 [20:40<05:17, 158.69s/it]/tmp/ipykernel_3344224/3006063650.py:14: SettingWithCopyWarning: \nA value is trying to be set on a copy of a slice from a DataFrame.\nTry using .loc[row_indexer,col_indexer] = value instead\n\nSee the caveats in the documentation: https://pandas.pydata.org/pandas-docs/stable/user_guide/indexing.html#returning-a-view-versus-a-copy\n  nonadv['ip'] = 'Problem: ' + nonadv['passage'] + '.' + nonadv['question'] + '\\nAnswer: ' + nonadv['answers']\n/tmp/ipykernel_3344224/3006063650.py:17: SettingWithCopyWarning: \nA value is trying to be set on a copy of a slice from a DataFrame.\nTry using .loc[row_indexer,col_indexer] = value instead\n\nSee the caveats in the documentation: https://pandas.pydata.org/pandas-docs/stable/user_guide/indexing.html#returning-a-view-versus-a-copy\n  nonadv['output'] = nonadv['ip'].apply(lambda x: getInference(getExplanation(x)))\n/tmp/ipykernel_3344224/3006063650.py:18: SettingWithCopyWarning: \nA value is trying to be set on a copy of a slice from a DataFrame.\nTry using .loc[row_indexer,col_indexer] = value instead\n\nSee the caveats in the documentation: https://pandas.pydata.org/pandas-docs/stable/user_guide/indexing.html#returning-a-view-versus-a-copy\n  nonadv['input'] = nonadv['ip'].str.split('\\nAnswer').str[0]\n/tmp/ipykernel_3344224/3006063650.py:24: SettingWithCopyWarning: \nA value is trying to be set on a copy of a slice from a DataFrame.\nTry using .loc[row_indexer,col_indexer] = value instead\n\nSee the caveats in the documentation: https://pandas.pydata.org/pandas-docs/stable/user_guide/indexing.html#returning-a-view-versus-a-copy\n  adv['output'] = nonadv['output']\n/tmp/ipykernel_3344224/3006063650.py:25: SettingWithCopyWarning: \nA value is trying to be set on a copy of a slice from a DataFrame.\nTry using .loc[row_indexer,col_indexer] = value instead\n\nSee the caveats in the documentation: https://pandas.pydata.org/pandas-docs/stable/user_guide/indexing.html#returning-a-view-versus-a-copy\n  adv['ip'] = adv['passage'] + 'Question: ' + adv['question'] + 'Solution steps: ' + adv['output']\n/tmp/ipykernel_3344224/3006063650.py:27: SettingWithCopyWarning: \nA value is trying to be set on a copy of a slice from a DataFrame.\nTry using .loc[row_indexer,col_indexer] = value instead\n\nSee the caveats in the documentation: https://pandas.pydata.org/pandas-docs/stable/user_guide/indexing.html#returning-a-view-versus-a-copy\n  adv['output'] = adv['ip'].apply(lambda x: getInference(createOP(x)))\n/tmp/ipykernel_3344224/3006063650.py:36: SettingWithCopyWarning: \nA value is trying to be set on a copy of a slice from a DataFrame.\nTry using .loc[row_indexer,col_indexer] = value instead\n\nSee the caveats in the documentation: https://pandas.pydata.org/pandas-docs/stable/user_guide/indexing.html#returning-a-view-versus-a-copy\n  adv['input'] = adv['passage'].apply(lambda x: ast.literal_eval(x)[0][1]).str.split('Augmented: ').str[-1]\n 90%|█████████ | 9/10 [22:57<02:32, 152.12s/it]/tmp/ipykernel_3344224/3006063650.py:14: SettingWithCopyWarning: \nA value is trying to be set on a copy of a slice from a DataFrame.\nTry using .loc[row_indexer,col_indexer] = value instead\n\nSee the caveats in the documentation: https://pandas.pydata.org/pandas-docs/stable/user_guide/indexing.html#returning-a-view-versus-a-copy\n  nonadv['ip'] = 'Problem: ' + nonadv['passage'] + '.' + nonadv['question'] + '\\nAnswer: ' + nonadv['answers']\n/tmp/ipykernel_3344224/3006063650.py:17: SettingWithCopyWarning: \nA value is trying to be set on a copy of a slice from a DataFrame.\nTry using .loc[row_indexer,col_indexer] = value instead\n\nSee the caveats in the documentation: https://pandas.pydata.org/pandas-docs/stable/user_guide/indexing.html#returning-a-view-versus-a-copy\n  nonadv['output'] = nonadv['ip'].apply(lambda x: getInference(getExplanation(x)))\n/tmp/ipykernel_3344224/3006063650.py:18: SettingWithCopyWarning: \nA value is trying to be set on a copy of a slice from a DataFrame.\nTry using .loc[row_indexer,col_indexer] = value instead\n\nSee the caveats in the documentation: https://pandas.pydata.org/pandas-docs/stable/user_guide/indexing.html#returning-a-view-versus-a-copy\n  nonadv['input'] = nonadv['ip'].str.split('\\nAnswer').str[0]\n/tmp/ipykernel_3344224/3006063650.py:24: SettingWithCopyWarning: \nA value is trying to be set on a copy of a slice from a DataFrame.\nTry using .loc[row_indexer,col_indexer] = value instead\n\nSee the caveats in the documentation: https://pandas.pydata.org/pandas-docs/stable/user_guide/indexing.html#returning-a-view-versus-a-copy\n  adv['output'] = nonadv['output']\n/tmp/ipykernel_3344224/3006063650.py:25: SettingWithCopyWarning: \nA value is trying to be set on a copy of a slice from a DataFrame.\nTry using .loc[row_indexer,col_indexer] = value instead\n\nSee the caveats in the documentation: https://pandas.pydata.org/pandas-docs/stable/user_guide/indexing.html#returning-a-view-versus-a-copy\n  adv['ip'] = adv['passage'] + 'Question: ' + adv['question'] + 'Solution steps: ' + adv['output']\n/tmp/ipykernel_3344224/3006063650.py:27: SettingWithCopyWarning: \nA value is trying to be set on a copy of a slice from a DataFrame.\nTry using .loc[row_indexer,col_indexer] = value instead\n\nSee the caveats in the documentation: https://pandas.pydata.org/pandas-docs/stable/user_guide/indexing.html#returning-a-view-versus-a-copy\n  adv['output'] = adv['ip'].apply(lambda x: getInference(createOP(x)))\n/tmp/ipykernel_3344224/3006063650.py:36: SettingWithCopyWarning: \nA value is trying to be set on a copy of a slice from a DataFrame.\nTry using .loc[row_indexer,col_indexer] = value instead\n\nSee the caveats in the documentation: https://pandas.pydata.org/pandas-docs/stable/user_guide/indexing.html#returning-a-view-versus-a-copy\n  adv['input'] = adv['passage'].apply(lambda x: ast.literal_eval(x)[0][1]).str.split('Augmented: ').str[-1]\n100%|██████████| 10/10 [24:34<00:00, 147.45s/it]\n"
        },
        {
          "output_type": "stream",
          "name": "stdout",
          "text": "Problem: A 200 seat theater charges 3.00 dollars for adults and 1.50 dollars for children. If all seats were filled and the total ticket income was 510 dollars how many adults and children were in the audience? \nAnswer: 140,60\nnon adv done. we have solutions\nadv done. we have explanations.\nProblem: The state market has 27 more apples than oranges. There are 301 apples and oranges all together. How many apples are in the market?\nAnswer: 164\nnon adv done. we have solutions\nadv done. we have explanations.\nProblem: An investor will invest a total of 15000 dollars in 2 accounts , one paying 4 % annual simple interest and the other 3 %. If he wants to earn 550 dollars annual interest , how much should he invest at 4 %? How much at 3 %? \nAnswer: 10000,5000\nnon adv done. we have solutions\nadv done. we have explanations.\nProblem: There are 3 more girls than boys in Tom 's class , and the sum of girls and boys is 41. How many boys are in the class? How many girls are in the class? \nAnswer: 19,22\nnon adv done. we have solutions\nadv done. we have explanations.\nProblem: Paul has 30 postcards. He has 4 times as many large postcards as small postcards. How many small postcards does he have? How many large postcards?\nAnswer: 6,24\nnon adv done. we have solutions\nadv done. we have explanations.\nProblem: Snookers Lumber can convert logs into either lumber or plywood. In a given day , the mill turns out three times as many units of plywood as lumber. It makes a profit of 30 dollars on a unit of lumber and 50 dollars on a unit of plywood. Snookers lumber must produce and sell ___ units of lumber and ___ units of plywood to make a profit of 18360 dollars? \nAnswer: 102,306\nnon adv done. we have solutions\nadv done. we have explanations.\nProblem: Tickets for adults are 5.50 dollars and tickets for children are 3.50 dollars. How many adult tickets and children 's tickets were purchased if 21 tickets were bought for 83.50 dollars? \nAnswer: 5,16\nnon adv done. we have solutions\nadv done. we have explanations.\nnan\nnon adv done. we have solutions\nadv done. we have explanations.\nProblem: Old McDonald has 15 goats and chickens on his farm. The animals combined have a total of 34 legs. Assuming there are no physical defects , how many goats are on the farm? How many chickens are on the farm? \nAnswer: 2,13\nnon adv done. we have solutions\nadv done. we have explanations.\nProblem: An auditorium has 500 balcony seats and 1800 main-level seats. If tickets for balcony seats will cost 15 dollars less than tickets for main-level seats , what should the prices be for the main-level seats and prices for the balcony seats , so that the total revenue from a sellout performance will be 84,500? \nAnswer: 40,25\nnon adv done. we have solutions\nadv done. we have explanations.\n"
        }
      ],
      "execution_count": 18,
      "metadata": {
        "jupyter": {
          "source_hidden": false,
          "outputs_hidden": false
        },
        "nteract": {
          "transient": {
            "deleting": false
          }
        },
        "gather": {
          "logged": 1702322840517
        }
      }
    },
    {
      "cell_type": "code",
      "source": [],
      "outputs": [],
      "execution_count": null,
      "metadata": {
        "jupyter": {
          "source_hidden": false,
          "outputs_hidden": false
        },
        "nteract": {
          "transient": {
            "deleting": false
          }
        }
      }
    },
    {
      "cell_type": "code",
      "source": [
        "# adv.head()"
      ],
      "outputs": [],
      "execution_count": null,
      "metadata": {
        "jupyter": {
          "source_hidden": false,
          "outputs_hidden": false
        },
        "nteract": {
          "transient": {
            "deleting": false
          }
        },
        "gather": {
          "logged": 1702276380455
        }
      }
    },
    {
      "cell_type": "code",
      "source": [
        "# nonadv.head()"
      ],
      "outputs": [],
      "execution_count": null,
      "metadata": {
        "jupyter": {
          "source_hidden": false,
          "outputs_hidden": false
        },
        "nteract": {
          "transient": {
            "deleting": false
          }
        },
        "gather": {
          "logged": 1702276380480
        }
      }
    },
    {
      "cell_type": "code",
      "source": [],
      "outputs": [],
      "execution_count": null,
      "metadata": {
        "jupyter": {
          "source_hidden": false,
          "outputs_hidden": false
        },
        "nteract": {
          "transient": {
            "deleting": false
          }
        },
        "gather": {
          "logged": 1702251548214
        }
      }
    },
    {
      "cell_type": "code",
      "source": [],
      "outputs": [],
      "execution_count": null,
      "metadata": {
        "jupyter": {
          "source_hidden": false,
          "outputs_hidden": false
        },
        "nteract": {
          "transient": {
            "deleting": false
          }
        }
      }
    },
    {
      "cell_type": "code",
      "source": [],
      "outputs": [],
      "execution_count": null,
      "metadata": {
        "jupyter": {
          "source_hidden": false,
          "outputs_hidden": false
        },
        "nteract": {
          "transient": {
            "deleting": false
          }
        }
      }
    },
    {
      "cell_type": "code",
      "source": [
        "# adv.head()"
      ],
      "outputs": [],
      "execution_count": null,
      "metadata": {
        "jupyter": {
          "source_hidden": false,
          "outputs_hidden": false
        },
        "nteract": {
          "transient": {
            "deleting": false
          }
        },
        "gather": {
          "logged": 1702276380511
        }
      }
    },
    {
      "cell_type": "code",
      "source": [
        "### now get the input column."
      ],
      "outputs": [],
      "execution_count": null,
      "metadata": {
        "jupyter": {
          "source_hidden": false,
          "outputs_hidden": false
        },
        "nteract": {
          "transient": {
            "deleting": false
          }
        },
        "gather": {
          "logged": 1702276380539
        }
      }
    },
    {
      "cell_type": "code",
      "source": [
        "### finally, keep only input and output columns."
      ],
      "outputs": [],
      "execution_count": null,
      "metadata": {
        "jupyter": {
          "source_hidden": false,
          "outputs_hidden": false
        },
        "nteract": {
          "transient": {
            "deleting": false
          }
        },
        "gather": {
          "logged": 1702276380573
        }
      }
    },
    {
      "cell_type": "code",
      "source": [
        "## algo:\n",
        "\n",
        "\n",
        "## if non-adv example, pass passage+question+answer to getExplanation.\n",
        "## if adv example, pass to createOP with augmented passage + new vars + augmented vars.\n",
        "## receive this output and attach the getExplanation output at the end\n",
        "\n",
        "        ## for non-adv\n",
        "        # we kep context, proble, solution.\n",
        "        ## for adv:\n",
        "        # we keep all"
      ],
      "outputs": [],
      "execution_count": null,
      "metadata": {
        "jupyter": {
          "source_hidden": false,
          "outputs_hidden": false
        },
        "nteract": {
          "transient": {
            "deleting": false
          }
        },
        "gather": {
          "logged": 1702276380609
        }
      }
    }
  ],
  "metadata": {
    "kernelspec": {
      "name": "python310-sdkv2",
      "language": "python",
      "display_name": "Python 3.10 - SDK v2"
    },
    "language_info": {
      "name": "python",
      "version": "3.10.11",
      "mimetype": "text/x-python",
      "codemirror_mode": {
        "name": "ipython",
        "version": 3
      },
      "pygments_lexer": "ipython3",
      "nbconvert_exporter": "python",
      "file_extension": ".py"
    },
    "microsoft": {
      "ms_spell_check": {
        "ms_spell_check_language": "en"
      },
      "host": {
        "AzureML": {
          "notebookHasBeenCompleted": true
        }
      }
    },
    "kernel_info": {
      "name": "python310-sdkv2"
    },
    "nteract": {
      "version": "nteract-front-end@1.0.0"
    }
  },
  "nbformat": 4,
  "nbformat_minor": 2
}